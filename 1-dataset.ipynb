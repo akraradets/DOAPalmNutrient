{
 "metadata": {
  "language_info": {
   "codemirror_mode": {
    "name": "ipython",
    "version": 3
   },
   "file_extension": ".py",
   "mimetype": "text/x-python",
   "name": "python",
   "nbconvert_exporter": "python",
   "pygments_lexer": "ipython3",
   "version": "3.8.5"
  },
  "orig_nbformat": 2,
  "kernelspec": {
   "name": "python385jvsc74a57bd0916dbcbb3f70747c44a77c7bcd40155683ae19c65e1c03b4aa3499c5328201f1",
   "display_name": "Python 3.8.5 64-bit"
  },
  "metadata": {
   "interpreter": {
    "hash": "916dbcbb3f70747c44a77c7bcd40155683ae19c65e1c03b4aa3499c5328201f1"
   }
  }
 },
 "nbformat": 4,
 "nbformat_minor": 2,
 "cells": [
  {
   "source": [
    "# Creating the dataset"
   ],
   "cell_type": "markdown",
   "metadata": {}
  },
  {
   "cell_type": "code",
   "execution_count": 1,
   "metadata": {},
   "outputs": [],
   "source": [
    "from myDataset import PalmNutriDataset\n",
    "ground_truth = 'dataset/gt.csv'"
   ]
  },
  {
   "cell_type": "code",
   "execution_count": 3,
   "metadata": {},
   "outputs": [
    {
     "output_type": "execute_result",
     "data": {
      "text/plain": [
       "1018"
      ]
     },
     "metadata": {},
     "execution_count": 3
    }
   ],
   "source": [
    "a = PalmNutriDataset(ground_truth=ground_truth, img_dir='dataset', sample_set='n17')\n",
    "a.__len__()"
   ]
  },
  {
   "cell_type": "code",
   "execution_count": 9,
   "metadata": {},
   "outputs": [],
   "source": [
    "b = a.__getitem__(10)\n"
   ]
  },
  {
   "cell_type": "code",
   "execution_count": 10,
   "metadata": {},
   "outputs": [
    {
     "output_type": "execute_result",
     "data": {
      "text/plain": [
       "{'image': tensor([[[135, 135, 136,  ..., 145, 146, 146],\n",
       "          [135, 135, 136,  ..., 144, 143, 141],\n",
       "          [135, 135, 136,  ..., 143, 142, 141],\n",
       "          ...,\n",
       "          [ 82,  83,  79,  ...,  81,  82,  82],\n",
       "          [ 85,  85,  80,  ...,  81,  82,  82],\n",
       "          [ 86,  87,  82,  ...,  81,  82,  82]],\n",
       " \n",
       "         [[134, 134, 135,  ..., 144, 145, 145],\n",
       "          [134, 134, 135,  ..., 143, 142, 140],\n",
       "          [134, 134, 135,  ..., 142, 141, 140],\n",
       "          ...,\n",
       "          [ 96,  97,  93,  ..., 111, 112, 112],\n",
       "          [ 99,  99,  94,  ..., 111, 112, 112],\n",
       "          [100, 101,  96,  ..., 111, 112, 112]],\n",
       " \n",
       "         [[140, 140, 141,  ..., 150, 151, 151],\n",
       "          [140, 140, 141,  ..., 149, 148, 146],\n",
       "          [140, 140, 141,  ..., 147, 146, 145],\n",
       "          ...,\n",
       "          [ 99,  98,  93,  ...,  73,  74,  74],\n",
       "          [100, 100,  94,  ...,  73,  74,  74],\n",
       "          [101, 102,  96,  ...,  73,  74,  74]]], dtype=torch.uint8),\n",
       " 'label': 2.187}"
      ]
     },
     "metadata": {},
     "execution_count": 10
    }
   ],
   "source": [
    "b"
   ]
  },
  {
   "cell_type": "code",
   "execution_count": null,
   "metadata": {},
   "outputs": [],
   "source": []
  }
 ]
}